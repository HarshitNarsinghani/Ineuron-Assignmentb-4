{
  "nbformat": 4,
  "nbformat_minor": 0,
  "metadata": {
    "colab": {
      "name": "Assignment 4",
      "provenance": []
    },
    "kernelspec": {
      "name": "python3",
      "display_name": "Python 3"
    }
  },
  "cells": [
    {
      "cell_type": "markdown",
      "metadata": {
        "id": "Ac3Xs0Rim7Nl"
      },
      "source": [
        "1.1 Write a Python Program(with class concepts) to find the area of the triangle using the below  formula. \r\n",
        "area = (s*(s-a)*(s-b)*(s-c)) ** 0.5 \r\n",
        "Function to take the length of the sides of triangle from user should be defined in the parent  class and function to calculate the area should be defined in subclass. \r\n"
      ]
    },
    {
      "cell_type": "code",
      "metadata": {
        "colab": {
          "base_uri": "https://localhost:8080/"
        },
        "id": "m1PWSYSPmu1D",
        "outputId": "22db29bc-cc0b-4a19-b345-7111f264547b"
      },
      "source": [
        "class triangle76:\r\n",
        "    def __init__(self,a,b,c):\r\n",
        "        self.a = float(a)\r\n",
        "        self.b = float(b)\r\n",
        "        self.c = float(c)\r\n",
        "a= int(input(\"a=\"))\r\n",
        "b= int(input(\"b=\"))\r\n",
        "c= int(input(\"c=\"))\r\n",
        "\r\n",
        "class triangle(triangle76):\r\n",
        "    def __init__(self,a,b,c):\r\n",
        "        super().__init__(a,b,c)\r\n",
        "\r\n",
        "    def get_area(self):\r\n",
        "        s = (a + b + c) / 2\r\n",
        "        return (s*(s-a)*(s-b)*(s-c)) ** 0.5        \r\n",
        "\r\n",
        "t = triangle(a,b,c)\r\n",
        "print(\"area : {}\".format(t.get_area()))\r\n"
      ],
      "execution_count": 6,
      "outputs": [
        {
          "output_type": "stream",
          "text": [
            "a=5\n",
            "b=6\n",
            "c=7\n",
            "area : 14.696938456699069\n"
          ],
          "name": "stdout"
        }
      ]
    },
    {
      "cell_type": "markdown",
      "metadata": {
        "id": "TVw1jOtltGFy"
      },
      "source": [
        "1.2 Write a function filter_long_words() that takes a list of words and an integer n and returns  the list of words that are longer than n. "
      ]
    },
    {
      "cell_type": "code",
      "metadata": {
        "colab": {
          "base_uri": "https://localhost:8080/"
        },
        "id": "EDdV0oH10RsR",
        "outputId": "4486636c-0832-463a-9b44-81256e208263"
      },
      "source": [
        "def filter_long_words(inputList,inputInteger):\r\n",
        " \r\n",
        "    listOfWords = []\r\n",
        " \r\n",
        "    for i in range(len(inputList)):\r\n",
        "        if len(inputList[i]) > inputInteger:\r\n",
        "            listOfWords.append(inputList[i])\r\n",
        " \r\n",
        "    return listOfWords\r\n",
        " \r\n",
        "inputListOfWords = ['wordOne','wordTwo','wordThree','wordFour','wordFive']\r\n",
        "inputWordLength = 7\r\n",
        " \r\n",
        "print (str(filter_long_words(inputListOfWords,inputWordLength)))"
      ],
      "execution_count": 8,
      "outputs": [
        {
          "output_type": "stream",
          "text": [
            "['wordThree', 'wordFour', 'wordFive']\n"
          ],
          "name": "stdout"
        }
      ]
    },
    {
      "cell_type": "markdown",
      "metadata": {
        "id": "7Ykuh33TtLcS"
      },
      "source": [
        "2.1 Write a Python program using function concept that maps list of words into a list of integers  representing the lengths of the corresponding words. \r\n",
        "Hint: If a list [ ab,cde,erty] is passed on to the python function output should come as [2,3,4] Here 2,3 and 4 are the lengths of the words in the list. \r\n"
      ]
    },
    {
      "cell_type": "code",
      "metadata": {
        "colab": {
          "base_uri": "https://localhost:8080/"
        },
        "id": "mB_rBucWIX4h",
        "outputId": "f7ae307b-b0ac-441b-d406-75c783ff3456"
      },
      "source": [
        "def map_Words_to_Length(List):\r\n",
        "    ''' This function Map's the words with their corresponding length'''\r\n",
        "    return list(map(len, List))\r\n",
        "\r\n",
        "word_List=list(input(\"Input : Please enter Words : \").split(\",\"))\r\n",
        "#List Comprehension has been done to remove white trailing white spaces\r\n",
        "List=[x.strip() for x in word_List]\r\n",
        "#function Execution\r\n",
        "Words_lengths=map_Words_to_Length(List)\r\n",
        "\r\n",
        "print(\"Output: Length of Words are :\",Words_lengths )"
      ],
      "execution_count": 10,
      "outputs": [
        {
          "output_type": "stream",
          "text": [
            "Input : Please enter Words : ab,cde,erty\n",
            "Output: Length of Words are : [2, 3, 4]\n"
          ],
          "name": "stdout"
        }
      ]
    },
    {
      "cell_type": "markdown",
      "metadata": {
        "id": "SqaHA7YKI1ed"
      },
      "source": [
        "2.2 Write a Python function which takes a character (i.e. a string of length 1) and returns True if  it is a vowel, False otherwise. \r\n"
      ]
    },
    {
      "cell_type": "code",
      "metadata": {
        "colab": {
          "base_uri": "https://localhost:8080/"
        },
        "id": "XdWU2JO3I0Z9",
        "outputId": "b8ab9e22-327c-49fd-acb2-97b9ff5f9209"
      },
      "source": [
        "def vowelChecker (inputChar):\r\n",
        " #DocString\r\n",
        " \"\"\" Function to check whether a char is vowel or not \"\"\"\r\n",
        " \r\n",
        " if (inputChar == \"a\" or inputChar == \"A\" or\r\n",
        " inputChar == \"e\" or inputChar == \"E\" or\r\n",
        " inputChar == \"i\" or inputChar == \"I\" or\r\n",
        " inputChar == \"o\" or inputChar == \"O\" or\r\n",
        " inputChar == \"u\" or inputChar == \"U\"):\r\n",
        "  return \"True\"\r\n",
        " else:\r\n",
        "\r\n",
        "\r\n",
        "   return \"False\"\r\n",
        " \r\n",
        "print (\"Enter the string to check\")\r\n",
        "inputChar = input()\r\n",
        " \r\n",
        "if vowelChecker(inputChar) == \"True\":\r\n",
        " print(\"The enterted character is Vowel:\",True)\r\n",
        "else:\r\n",
        " print(\"The enterted character is not Vowel\",False)\r\n"
      ],
      "execution_count": 16,
      "outputs": [
        {
          "output_type": "stream",
          "text": [
            "Enter the string to check\n",
            "O\n",
            "The enterted character is Vowel: True\n"
          ],
          "name": "stdout"
        }
      ]
    }
  ]
}